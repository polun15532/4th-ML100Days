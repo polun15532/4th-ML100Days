{
 "cells": [
  {
   "cell_type": "markdown",
   "metadata": {},
   "source": [
    "## [作業目標]\n",
    "了解機器學習適合應用的領域與範疇。"
   ]
  },
  {
   "cell_type": "markdown",
   "metadata": {},
   "source": [
    "## [作業重點]\n",
    "透過瞭解機器學習的運作方式，找出非常適用機器學習應用的領域及其原因"
   ]
  },
  {
   "cell_type": "markdown",
   "metadata": {},
   "source": [
    "## 作業\n",
    "請找出一個你認為機器學習可以發光發熱的領域並闡述原因? "
   ]
  },
  {
   "cell_type": "code",
   "execution_count": null,
   "metadata": {},
   "outputs": [],
   "source": [
    "'''\n",
    "我認為風險控管是機器學習將會發光發熱的領域，舉例來說像是虛擬量測或是製成參數的最佳化都可以透過機器學習來達到。\n",
    "以虛擬量測而言，對於國內生產半導體的公司而言會是相當重要的一件事，他可以幫助我們在生產之前得知產品的良率等資訊，以幫助我們判讀是否進行下一步的生產。\n",
    "再抽檢上也可以使用機器學習模擬，目前在半導體產業上有些檢測是破壞性檢測，像這類型的檢測無法進行全檢。\n",
    "因此若能使用機器學習加以判讀就可以透過一些在其他檢測所得到的參數來確定產品是否瑕疵等等。\n",
    "'''"
   ]
  }
 ],
 "metadata": {
  "kernelspec": {
   "display_name": "Python 3",
   "language": "python",
   "name": "python3"
  },
  "language_info": {
   "codemirror_mode": {
    "name": "ipython",
    "version": 3
   },
   "file_extension": ".py",
   "mimetype": "text/x-python",
   "name": "python",
   "nbconvert_exporter": "python",
   "pygments_lexer": "ipython3",
   "version": "3.7.4"
  }
 },
 "nbformat": 4,
 "nbformat_minor": 2
}
